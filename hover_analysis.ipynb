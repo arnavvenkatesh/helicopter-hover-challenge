{
 "cells": [
  {
   "cell_type": "markdown",
   "id": "ba408a00",
   "metadata": {},
   "source": [
    "# Helicopter Hover Challenge — Earth vs. Mars\n",
    "## Author: Arnav Venkatesh for IIT Madras School Connect Program\n",
    "## Objective\n",
    "Compute rotor speeds required to hover helicopters and drones on Earth and Mars, and compare with NASA’s Ingenuity drone.\n",
    "\n",
    "## Instructions\n",
    "1. Open `notebooks/hover_analysis.ipynb`.\n",
    "2. Run the notebook for desired masses.\n",
    "3. Outputs include rotor speed (rad/s and rpm) for Earth and Mars, tables, and plots.\n",
    "\n",
    "## Results\n",
    "See `report.pdf` for summary table, discussion, and comparison to Ingenuity.\n",
    "\n",
    "## License\n",
    "MIT License (code)"
   ]
  },
  {
   "cell_type": "code",
   "execution_count": 10,
   "id": "78d40c70",
   "metadata": {},
   "outputs": [
    {
     "name": "stdout",
     "output_type": "stream",
     "text": [
      "Enter helicopter mass in kg: 1.8\n",
      "\n",
      "--- Hover Condition ---\n",
      "Weight on Earth: 17.66 N\n",
      "Weight on Mars : 6.68 N\n",
      "Rotor area (per rotor): 1.131 m^2\n",
      "\n",
      "Minimum rotor speed required:\n",
      "Earth: 47.04 rad/s (449 rpm)\n",
      "Mars : 226.40 rad/s (2162 rpm)\n"
     ]
    }
   ],
   "source": [
    "import math\n",
    "# Constants\n",
    "g_earth = 9.81 # m/s^2\n",
    "g_mars = 3.71 # m/s^2\n",
    "rho_earth = 1.225 # kg/m^3\n",
    "rho_mars = 0.020 # kg/m^3\n",
    "CT = 0.008 # thrust coefficient\n",
    "R = 0.6 # rotor radius (m)\n",
    "A = math.pi * R**2 # rotor disc area\n",
    "rotors = 2 # number of rotors\n",
    "\n",
    "# Step 1: Input mass\n",
    "mass = float(input(\"Enter helicopter mass in kg: \"))\n",
    "\n",
    "# Step 2: Weight\n",
    "W_earth = mass * g_earth\n",
    "W_mars = mass * g_mars\n",
    "\n",
    "# Step 3: Solve for omega needed to hover\n",
    "def omega_required(W, rho):\n",
    "    return math.sqrt(W / (rotors * CT * rho * A * R**2))\n",
    "omega_earth = omega_required(W_earth, rho_earth)\n",
    "omega_mars = omega_required(W_mars, rho_mars)\n",
    "\n",
    "# Step 4: Convert rad/s to rpm\n",
    "rpm_earth = omega_earth * 60 / (2 * math.pi)\n",
    "rpm_mars = omega_mars * 60 / (2 * math.pi)\n",
    "\n",
    "# Step 5: Display results\n",
    "print(\"\\n--- Hover Condition ---\")\n",
    "print(f\"Weight on Earth: {W_earth:.2f} N\")\n",
    "print(f\"Weight on Mars : {W_mars:.2f} N\")\n",
    "print(f\"Rotor area (per rotor): {A:.3f} m^2\")\n",
    "print(\"\\nMinimum rotor speed required:\")\n",
    "print(f\"Earth: {omega_earth:.2f} rad/s ({rpm_earth:.0f} rpm)\") \n",
    "print(f\"Mars : {omega_mars:.2f} rad/s ({rpm_mars:.0f} rpm)\")"
   ]
  },
  {
   "cell_type": "code",
   "execution_count": null,
   "id": "c7179dcf",
   "metadata": {},
   "outputs": [],
   "source": []
  }
 ],
 "metadata": {
  "kernelspec": {
   "display_name": "Python 3 (ipykernel)",
   "language": "python",
   "name": "python3"
  },
  "language_info": {
   "codemirror_mode": {
    "name": "ipython",
    "version": 3
   },
   "file_extension": ".py",
   "mimetype": "text/x-python",
   "name": "python",
   "nbconvert_exporter": "python",
   "pygments_lexer": "ipython3",
   "version": "3.9.12"
  }
 },
 "nbformat": 4,
 "nbformat_minor": 5
}
